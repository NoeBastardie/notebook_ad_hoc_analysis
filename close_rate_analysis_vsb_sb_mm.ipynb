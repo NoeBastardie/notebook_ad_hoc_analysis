{
 "cells": [
  {
   "cell_type": "code",
   "execution_count": 210,
   "metadata": {},
   "outputs": [],
   "source": [
    "import pandas as pd\n",
    "import numpy as np"
   ]
  },
  {
   "cell_type": "markdown",
   "metadata": {},
   "source": [
    "# VSB : close rate (ponderate by outbound win opportunities) and total arpa_vsb (ponderate by total opportunities) :"
   ]
  },
  {
   "cell_type": "markdown",
   "metadata": {},
   "source": [
    "step 1 : getting the data (csv extracted from https://payfit.eu.looker.com/dashboards/1233?CCN%20Code%20and%20Name=-CCN%20non%20r%C3%A9f%C3%A9renc%C3%A9e%20ou%20pas%20de%20CCN,-N%2FA&PayFit%20Clients%20per%20CCN=%3E%3D1&D%C3%A9partement=-97%25&INSEE%20Employee%20Tier=VSB (looker dashboard filtered on VSB))"
   ]
  },
  {
   "cell_type": "code",
   "execution_count": 211,
   "metadata": {},
   "outputs": [],
   "source": [
    "df_closerate_vsb = pd.read_csv('closerate_vsb.csv', header = 1)\n",
    "df_arpa_vsb = pd.read_csv('arpa_vsb.csv', header=1)"
   ]
  },
  {
   "cell_type": "markdown",
   "metadata": {},
   "source": [
    "## Close rate and arpa_vsb for VSB"
   ]
  },
  {
   "cell_type": "markdown",
   "metadata": {},
   "source": [
    "###  drop na and rename / drop columns"
   ]
  },
  {
   "cell_type": "code",
   "execution_count": 212,
   "metadata": {},
   "outputs": [],
   "source": [
    "df_closerate_vsb = df_closerate_vsb.drop(columns = [\"Close Ratio\",'Unnamed: 0'])\n",
    "df_closerate_vsb = df_closerate_vsb.rename(columns={\"Close Ratio.1\": \"close_ratio_ob\"})\n",
    "df_closerate_vsb = df_closerate_vsb.dropna()\n",
    "df_arpa_vsb = df_arpa_vsb.dropna()\n",
    "df_arpa_vsb = df_arpa_vsb.drop(columns = ['Unnamed: 0','Won Opportunities','ARPA ','ARPA .1'])\n",
    "df_arpa_vsb = df_arpa_vsb.rename(columns={'Won Opportunities.1': \"won_opportunities_ob\", 'Won Opportunities.2': 'won_opportunities_tot', 'ARPA .2':'arpa_tot'})"
   ]
  },
  {
   "cell_type": "markdown",
   "metadata": {},
   "source": [
    "### collective_agreement to Syntec/HCR/RR"
   ]
  },
  {
   "cell_type": "code",
   "execution_count": 213,
   "metadata": {},
   "outputs": [],
   "source": [
    "def cag_to_ccn (x) :\n",
    "    if '1486' in x.lower() or 'syntec' in x.lower() :\n",
    "        return ('SYNTEC')\n",
    "    elif '1979' in x or 'restaurant' in x.lower() :\n",
    "        return ('HCR')\n",
    "    elif '1501' in x or 'restauration' in x.lower() :\n",
    "        return('RR')\n",
    "    else :\n",
    "        return(x)\n"
   ]
  },
  {
   "cell_type": "code",
   "execution_count": 214,
   "metadata": {},
   "outputs": [],
   "source": [
    "df_closerate_vsb['Collective Agreement_process'] = df_closerate_vsb['Collective Agreement'].apply(cag_to_ccn)\n",
    "df_arpa_vsb['Collective Agreement_process'] = df_arpa_vsb['Collective Agreement'].apply(cag_to_ccn)"
   ]
  },
  {
   "cell_type": "markdown",
   "metadata": {},
   "source": [
    "### obtention of filtered table containing only SYNTEC, HCR and RR datas"
   ]
  },
  {
   "cell_type": "code",
   "execution_count": 215,
   "metadata": {},
   "outputs": [],
   "source": [
    "df_closerate_filtered_vsb = df_closerate_vsb[df_closerate_vsb['Collective Agreement_process'].isin(['SYNTEC','HCR','RR'])]\n",
    "df_arpa_filtered_vsb = df_arpa_vsb[df_arpa_vsb['Collective Agreement_process'].isin(['SYNTEC','HCR','RR'])]"
   ]
  },
  {
   "cell_type": "markdown",
   "metadata": {},
   "source": [
    "merging of the two tables on Collective agreement"
   ]
  },
  {
   "cell_type": "code",
   "execution_count": 216,
   "metadata": {},
   "outputs": [],
   "source": [
    "df_merge_filtered_vsb = df_arpa_filtered_vsb.merge(df_closerate_filtered_vsb, how= 'left', on = 'Collective Agreement')\n",
    "df_merge_filtered_vsb.drop(columns='Collective Agreement_process_y',inplace=True)"
   ]
  },
  {
   "cell_type": "markdown",
   "metadata": {},
   "source": [
    "### creation of arpa_vsb_cumul and close_rate_ob_cumul"
   ]
  },
  {
   "cell_type": "markdown",
   "metadata": {},
   "source": [
    "conversion of columns to int / float :"
   ]
  },
  {
   "cell_type": "code",
   "execution_count": 217,
   "metadata": {},
   "outputs": [],
   "source": [
    "def euros_to_int(x):\n",
    "    return(int(x.split('€')[0]))\n",
    "\n",
    "df_merge_filtered_vsb['arpa_tot'] = df_merge_filtered_vsb['arpa_tot'].apply(euros_to_int)\n",
    "df_merge_filtered_vsb['close_ratio_ob'] = df_merge_filtered_vsb['close_ratio_ob'].apply(lambda x: float(str(x).split('%')[0]))\n",
    "df_merge_filtered_vsb['won_opportunities_tot'] = df_merge_filtered_vsb['won_opportunities_tot'].apply(lambda x: int(x))"
   ]
  },
  {
   "cell_type": "markdown",
   "metadata": {},
   "source": [
    "creation of arpa_vsb_cumul and close_rate_ob_cumul"
   ]
  },
  {
   "cell_type": "code",
   "execution_count": 218,
   "metadata": {},
   "outputs": [],
   "source": [
    "df_merge_filtered_vsb['arpa_cumul'] = df_merge_filtered_vsb['won_opportunities_tot']* df_merge_filtered_vsb['arpa_tot']\n",
    "df_merge_filtered_vsb['close_ratio_ob_cumul'] = df_merge_filtered_vsb['won_opportunities_ob'] * df_merge_filtered_vsb['close_ratio_ob']"
   ]
  },
  {
   "cell_type": "markdown",
   "metadata": {},
   "source": [
    "### group by collective_agreement process and sum"
   ]
  },
  {
   "cell_type": "code",
   "execution_count": 219,
   "metadata": {},
   "outputs": [],
   "source": [
    "df_merge_filtered_vsb_group = df_merge_filtered_vsb.groupby('Collective Agreement_process_x').sum()"
   ]
  },
  {
   "cell_type": "markdown",
   "metadata": {},
   "source": [
    "### Obtention of final insights"
   ]
  },
  {
   "cell_type": "code",
   "execution_count": 220,
   "metadata": {},
   "outputs": [],
   "source": [
    "df_merge_filtered_vsb_group['arpa_vsb_final'] = df_merge_filtered_vsb_group['arpa_cumul'] / df_merge_filtered_vsb_group['won_opportunities_tot']\n",
    "df_merge_filtered_vsb_group['close_rate_vsb_final'] = df_merge_filtered_vsb_group['close_ratio_ob_cumul'] / df_merge_filtered_vsb_group['won_opportunities_ob']"
   ]
  },
  {
   "cell_type": "markdown",
   "metadata": {},
   "source": [
    "# SB (same process)"
   ]
  },
  {
   "cell_type": "code",
   "execution_count": 221,
   "metadata": {},
   "outputs": [],
   "source": [
    "df_closerate_sb = pd.read_csv('closerate_sb.csv', header = 1)\n",
    "df_arpa_sb = pd.read_csv('arpa_sb.csv', header=1)"
   ]
  },
  {
   "cell_type": "code",
   "execution_count": 222,
   "metadata": {},
   "outputs": [],
   "source": [
    "df_closerate_sb = df_closerate_sb.drop(columns = [\"Close Ratio\",'Unnamed: 0'])\n",
    "df_closerate_sb = df_closerate_sb.rename(columns={\"Close Ratio.1\": \"close_ratio_ob\"})\n",
    "df_closerate_sb = df_closerate_sb.dropna()\n",
    "df_arpa_sb = df_arpa_sb.dropna()\n",
    "df_arpa_sb = df_arpa_sb.drop(columns = ['Unnamed: 0','Won Opportunities','ARPA ','ARPA .1'])\n",
    "df_arpa_sb = df_arpa_sb.rename(columns={'Won Opportunities.1': \"won_opportunities_ob\", 'Won Opportunities.2': 'won_opportunities_tot', 'ARPA .2':'arpa_tot'})"
   ]
  },
  {
   "cell_type": "code",
   "execution_count": 223,
   "metadata": {},
   "outputs": [],
   "source": [
    "df_closerate_sb['Collective Agreement_process'] = df_closerate_sb['Collective Agreement'].apply(cag_to_ccn)\n",
    "df_arpa_sb['Collective Agreement_process'] = df_arpa_sb['Collective Agreement'].apply(cag_to_ccn)"
   ]
  },
  {
   "cell_type": "code",
   "execution_count": 224,
   "metadata": {},
   "outputs": [],
   "source": [
    "df_closerate_filtered_sb = df_closerate_sb[df_closerate_sb['Collective Agreement_process'].isin(['SYNTEC','HCR','RR'])]\n",
    "df_arpa_filtered_sb = df_arpa_sb[df_arpa_sb['Collective Agreement_process'].isin(['SYNTEC','HCR','RR'])]"
   ]
  },
  {
   "cell_type": "code",
   "execution_count": 225,
   "metadata": {},
   "outputs": [],
   "source": [
    "df_merge_filtered_sb = df_arpa_filtered_sb.merge(df_closerate_filtered_sb, how= 'left', on = 'Collective Agreement')\n",
    "df_merge_filtered_sb.drop(columns='Collective Agreement_process_y',inplace=True)"
   ]
  },
  {
   "cell_type": "code",
   "execution_count": 226,
   "metadata": {},
   "outputs": [],
   "source": [
    "df_merge_filtered_sb['arpa_tot'] = df_merge_filtered_sb['arpa_tot'].apply(euros_to_int)\n",
    "df_merge_filtered_sb['close_ratio_ob'] = df_merge_filtered_sb['close_ratio_ob'].apply(lambda x: float(str(x).split('%')[0]))\n",
    "df_merge_filtered_sb['won_opportunities_tot'] = df_merge_filtered_sb['won_opportunities_tot'].apply(lambda x: int(x))"
   ]
  },
  {
   "cell_type": "code",
   "execution_count": 227,
   "metadata": {},
   "outputs": [],
   "source": [
    "df_merge_filtered_sb['arpa_cumul'] = df_merge_filtered_sb['won_opportunities_tot']* df_merge_filtered_sb['arpa_tot']\n",
    "df_merge_filtered_sb['close_ratio_ob_cumul'] = df_merge_filtered_sb['won_opportunities_ob'] * df_merge_filtered_sb['close_ratio_ob']"
   ]
  },
  {
   "cell_type": "code",
   "execution_count": 228,
   "metadata": {},
   "outputs": [],
   "source": [
    "df_merge_filtered_sb_group = df_merge_filtered_sb.groupby('Collective Agreement_process_x').sum()"
   ]
  },
  {
   "cell_type": "code",
   "execution_count": 229,
   "metadata": {},
   "outputs": [],
   "source": [
    "df_merge_filtered_sb_group['arpa_vsb_final'] = df_merge_filtered_sb_group['arpa_cumul'] / df_merge_filtered_sb_group['won_opportunities_tot']\n",
    "df_merge_filtered_sb_group['close_rate_vsb_final'] = df_merge_filtered_sb_group['close_ratio_ob_cumul'] / df_merge_filtered_sb_group['won_opportunities_ob']"
   ]
  },
  {
   "cell_type": "markdown",
   "metadata": {},
   "source": [
    "# MM"
   ]
  },
  {
   "cell_type": "markdown",
   "metadata": {},
   "source": []
  }
 ],
 "metadata": {
  "interpreter": {
   "hash": "40d3a090f54c6569ab1632332b64b2c03c39dcf918b08424e98f38b5ae0af88f"
  },
  "kernelspec": {
   "display_name": "Python 3.8.3 64-bit ('base': conda)",
   "name": "python3"
  },
  "language_info": {
   "codemirror_mode": {
    "name": "ipython",
    "version": 3
   },
   "file_extension": ".py",
   "mimetype": "text/x-python",
   "name": "python",
   "nbconvert_exporter": "python",
   "pygments_lexer": "ipython3",
   "version": "3.8.3"
  },
  "orig_nbformat": 4
 },
 "nbformat": 4,
 "nbformat_minor": 2
}
